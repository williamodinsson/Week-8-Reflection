{
  "nbformat": 4,
  "nbformat_minor": 0,
  "metadata": {
    "colab": {
      "provenance": [],
      "collapsed_sections": []
    },
    "kernelspec": {
      "name": "python3",
      "display_name": "Python 3"
    },
    "language_info": {
      "name": "python"
    },
    "accelerator": "GPU",
    "gpuClass": "standard"
  },
  "cells": [
    {
      "cell_type": "markdown",
      "source": [
        "#### url :https://www.kdnuggets.com/2018/04/implementing-deep-learning-methods-feature-engineering-text-data-cbow.html\n",
        "#### Title: Supercharging modern data centers with NVIDIA networking solutions Supercharging modern data centers with NVIDIA Implementing Deep Learning Methods and Feature Engineering for Text Data: The Continuous Bag of Words (CBOW)\n",
        "#### Author: Dipanjan Sarkar"
      ],
      "metadata": {
        "id": "nIsevma2Kt_t"
      }
    },
    {
      "cell_type": "markdown",
      "source": [
        "##### 1. How would you incorporate other vectorizations than tf-idf into your proposed document similarity measure (Question 3 of Week 2)?"
      ],
      "metadata": {
        "id": "o65-1LODLGR6"
      }
    },
    {
      "cell_type": "code",
      "source": [
        "import numpy as np\n",
        "import pandas as pd \n",
        "# Plotting library\n",
        "import matplotlib\n",
        "import matplotlib.pyplot as plt\n",
        "# Plot graphs within ipython notebook\n",
        "%matplotlib inline\n",
        "\n",
        "# Python Natural Language Tool Kit\n",
        "import nltk\n",
        "from nltk import word_tokenize\n",
        "from nltk.corpus import stopwords\n",
        "nltk.download('punkt')\n",
        "nltk.download('stopwords')\n",
        "\n"
      ],
      "metadata": {
        "colab": {
          "base_uri": "https://localhost:8080/"
        },
        "id": "nkjUPHo-BiPa",
        "outputId": "63586f6d-01a8-4d7a-a5ae-b9e336176c00"
      },
      "execution_count": null,
      "outputs": [
        {
          "output_type": "stream",
          "name": "stderr",
          "text": [
            "[nltk_data] Downloading package punkt to /root/nltk_data...\n",
            "[nltk_data]   Unzipping tokenizers/punkt.zip.\n",
            "[nltk_data] Downloading package stopwords to /root/nltk_data...\n",
            "[nltk_data]   Unzipping corpora/stopwords.zip.\n"
          ]
        },
        {
          "output_type": "execute_result",
          "data": {
            "text/plain": [
              "True"
            ]
          },
          "metadata": {},
          "execution_count": 1
        }
      ]
    },
    {
      "cell_type": "code",
      "source": [
        "file = file = open(\"metamorphosis_clean.txt\", \"r\", encoding = \"utf8\")\n",
        "lines = []\n",
        "\n",
        "for i in file:\n",
        "    lines.append(i)\n",
        "    \n",
        "print(\"The First Line: \", lines[0])\n",
        "print(\"The Last Line: \", lines[-1])"
      ],
      "metadata": {
        "colab": {
          "base_uri": "https://localhost:8080/"
        },
        "id": "bCiZaoS5EbJU",
        "outputId": "fc1c6ca8-d9d5-41b3-8881-b74460fde7db"
      },
      "execution_count": null,
      "outputs": [
        {
          "output_type": "stream",
          "name": "stdout",
          "text": [
            "The First Line:  ﻿One morning, when Gregor Samsa woke from troubled dreams, he found\n",
            "\n",
            "The Last Line:  first to get up and stretch out her young body.\n"
          ]
        }
      ]
    },
    {
      "cell_type": "code",
      "source": [
        "data = \"\"\n",
        "\n",
        "for i in lines:\n",
        "    data = ' '. join(lines)\n",
        "    \n",
        "data = data.replace('\\n', '').replace('\\r', '').replace('\\ufeff', '').replace('\\ ', '')"
      ],
      "metadata": {
        "id": "FFLs2T01HzPP"
      },
      "execution_count": null,
      "outputs": []
    },
    {
      "cell_type": "code",
      "source": [
        "z = []\n",
        "\n",
        "for i in data.split():\n",
        "    if i not in z:\n",
        "        z.append(i)\n",
        "        \n",
        "data = ' '.join(z)"
      ],
      "metadata": {
        "id": "I0Ik7wegIjLY"
      },
      "execution_count": null,
      "outputs": []
    },
    {
      "cell_type": "code",
      "source": [
        "from nltk.tokenize import word_tokenize\n",
        "nltk.download('punkt')\n",
        "tokens = word_tokenize(data)"
      ],
      "metadata": {
        "colab": {
          "base_uri": "https://localhost:8080/"
        },
        "id": "jbxjoLf0JAfz",
        "outputId": "2ef92e8c-d228-4a81-a861-94d435626e9e"
      },
      "execution_count": null,
      "outputs": [
        {
          "output_type": "stream",
          "name": "stderr",
          "text": [
            "[nltk_data] Downloading package punkt to /root/nltk_data...\n",
            "[nltk_data]   Package punkt is already up-to-date!\n"
          ]
        }
      ]
    },
    {
      "cell_type": "code",
      "source": [
        "from nltk.corpus import stopwords\n",
        "skip=set(stopwords.words('english'))\n",
        "#initializing the snowball stemmer that will convert the words to their root meaning\n",
        "sno=nltk.stem.SnowballStemmer('english')"
      ],
      "metadata": {
        "id": "XZo6arN8weLp"
      },
      "execution_count": null,
      "outputs": []
    },
    {
      "cell_type": "code",
      "source": [
        "wordsFiltered = []\n",
        "for w in data.split():\n",
        "    if w not in skip:\n",
        "        wordsFiltered.append(w)"
      ],
      "metadata": {
        "id": "SWiivnpwwf9N"
      },
      "execution_count": null,
      "outputs": []
    },
    {
      "cell_type": "code",
      "source": [
        "df = ' '.join(wordsFiltered)"
      ],
      "metadata": {
        "id": "Yi12CmM8xMx-"
      },
      "execution_count": null,
      "outputs": []
    },
    {
      "cell_type": "code",
      "source": [
        "new_data = [sno.stem(w) for w in df.split()]\n",
        "new = ' '\n",
        "for x in new_data:\n",
        "    new += ' ' + x"
      ],
      "metadata": {
        "id": "3Kb7EECDw1BB"
      },
      "execution_count": null,
      "outputs": []
    },
    {
      "cell_type": "code",
      "source": [
        "from keras.preprocessing import text\n",
        "from keras.utils import np_utils\n",
        "from keras.preprocessing import sequence\n",
        "tokenizer = text.Tokenizer()\n",
        "tokenizer.fit_on_texts(new.split())\n",
        "word2id = tokenizer.word_index\n",
        "# build vocabulary of unique words\n",
        "word2id['PAD'] = 0\n",
        "id2word = {v:k for k, v in word2id.items()}\n",
        "wids = [[word2id[w] for w in text.text_to_word_sequence(doc)] for doc in new.split()]\n",
        "vocab_size = len(word2id)\n",
        "embed_size = 100\n",
        "window_size = 3 # context window size\n",
        "print('Vocabulary Size:', vocab_size)\n",
        "print('Vocabulary Sample:', list(word2id.items())[:200])\n"
      ],
      "metadata": {
        "colab": {
          "base_uri": "https://localhost:8080/"
        },
        "id": "SIar1lZXEWnt",
        "outputId": "47985b91-af64-4042-d2ad-cd65a3c4340a"
      },
      "execution_count": null,
      "outputs": [
        {
          "output_type": "stream",
          "name": "stdout",
          "text": [
            "Vocabulary Size: 2301\n",
            "Vocabulary Sample: [('now', 1), ('gregor', 2), ('it', 3), ('that', 4), ('well', 5), ('mother', 6), ('he', 7), ('father', 8), ('work', 9), ('then', 10), ('grete', 11), ('what', 12), ('pain', 13), ('there', 14), ('come', 15), ('open', 16), ('help', 17), ('samsa', 18), ('bed', 19), ('hard', 20), ('room', 21), ('look', 22), ('god', 23), ('out', 24), ('like', 25), ('let', 26), ('hope', 27), ('move', 28), ('yes', 29), ('round', 30), ('no', 31), ('on', 32), ('door', 33), ('imagin', 34), ('this', 35), ('so', 36), ('in', 37), ('one', 38), ('back', 39), ('moment', 40), ('him', 41), ('use', 42), ('get', 43), ('before', 44), ('home', 45), ('time', 46), ('know', 47), ('go', 48), ('place', 49), ('soon', 50), ('enough', 51), ('other', 52), ('live', 53), ('would', 54), ('long', 55), ('and', 56), ('close', 57), ('quiet', 58), ('seven', 59), ('you', 60), ('sister', 61), ('continu', 62), ('said', 63), ('himself', 64), ('stay', 65), ('calm', 66), ('again', 67), ('here', 68), ('anyway', 69), ('all', 70), ('be', 71), ('suffer', 72), ('wait', 73), ('chair', 74), ('listen', 75), ('will', 76), ('head', 77), ('cover', 78), ('happen', 79), ('thought', 80), ('travel', 81), ('upright', 82), ('arm', 83), ('turn', 84), ('window', 85), ('drop', 86), ('sleep', 87), ('right', 88), ('was', 89), ('oh', 90), ('day', 91), ('do', 92), ('make', 93), ('train', 94), ('better', 95), ('quick', 96), ('life', 97), ('gentlemen', 98), ('eat', 99), ('boss', 100), ('but', 101), ('thing', 102), ('think', 103), ('notic', 104), ('desk', 105), ('first', 106), ('leav', 107), ('alarm', 108), ('hand', 109), ('even', 110), ('later', 111), (\"o'clock\", 112), ('rush', 113), ('ill', 114), ('wrong', 115), ('hurri', 116), ('call', 117), ('want', 118), ('shock', 119), ('word', 120), ('thank', 121), ('chang', 122), ('away', 123), ('expect', 124), ('side', 125), ('breakfast', 126), ('lock', 127), ('today', 128), ('seen', 129), ('forward', 130), ('direct', 131), ('way', 132), ('already', 133), ('breath', 134), ('stick', 135), ('patient', 136), ('floor', 137), ('clerk', 138), ('high', 139), ('sound', 140), ('left', 141), ('too', 142), ('question', 143), ('we', 144), ('us', 145), ('is', 146), ('job', 147), ('appear', 148), ('did', 149), ('cough', 150), ('tip', 151), ('key', 152), ('start', 153), ('enter', 154), ('movement', 155), ('ground', 156), ('end', 157), ('glanc', 158), ('arrang', 159), ('to', 160), ('plan', 161), ('while', 162), ('play', 163), ('walk', 164), ('morning', 165), ('transform', 166), ('see', 167), ('belly', 168), ('the', 169), ('seem', 170), ('rest', 171), ('helpless', 172), ('me', 173), ('dream', 174), ('human', 175), ('although', 176), ('peac', 177), ('nice', 178), ('show', 179), ('hat', 180), ('rais', 181), ('toward', 182), ('heard', 183), ('feel', 184), ('longer', 185), ('state', 186), ('tri', 187), ('take', 188), ('much', 189), ('effort', 190), ('food', 191), ('friend', 192), ('them', 193), ('push', 194), ('lot', 195), ('spot', 196), ('for', 197), ('still', 198), ('sit', 199), ('mayb', 200)]\n"
          ]
        }
      ]
    },
    {
      "cell_type": "code",
      "source": [
        "from keras_preprocessing.sequence import pad_sequences\n",
        "def generate_context_word_pairs(corpus, window_size, vocab_size):\n",
        "    context_length = window_size*2\n",
        "    for words in corpus:\n",
        "        sentence_length = len(words)\n",
        "        for index, word in enumerate(words):\n",
        "            context_words = []\n",
        "            label_word   = []            \n",
        "            start = index - window_size\n",
        "            end = index + window_size + 1\n",
        "            \n",
        "            context_words.append([words[i] \n",
        "                                 for i in range(start, end) \n",
        "                                 if 0 <= i < sentence_length \n",
        "                                 and i != index])\n",
        "            label_word.append(word)\n",
        "\n",
        "            x = pad_sequences(context_words, maxlen=context_length)\n",
        "            y = np_utils.to_categorical(label_word, vocab_size)\n",
        "            yield (x, y)\n",
        "            \n",
        "\n"
      ],
      "metadata": {
        "id": "y8MAlsY5Fl3S"
      },
      "execution_count": null,
      "outputs": []
    },
    {
      "cell_type": "code",
      "source": [
        "import keras.backend as K\n",
        "from keras.models import Sequential\n",
        "from keras.layers import Dense, Embedding, Lambda\n",
        "\n",
        "# build CBOW architecture\n",
        "cbow = Sequential()\n",
        "cbow.add(Embedding(input_dim=vocab_size, output_dim=embed_size, input_length=window_size*2))\n",
        "cbow.add(Lambda(lambda x: K.mean(x, axis=1), output_shape=(embed_size,)))\n",
        "cbow.add(Dense(vocab_size, activation='softmax'))\n",
        "cbow.compile(loss='categorical_crossentropy',  optimizer='rmsprop')\n",
        "\n",
        "# view model summary\n",
        "print(cbow.summary())\n",
        "\n"
      ],
      "metadata": {
        "colab": {
          "base_uri": "https://localhost:8080/"
        },
        "id": "LK5Wes-eHC-T",
        "outputId": "1bc59f93-bdd1-4717-9f61-a43ce0939ae9"
      },
      "execution_count": null,
      "outputs": [
        {
          "output_type": "stream",
          "name": "stdout",
          "text": [
            "Model: \"sequential\"\n",
            "_________________________________________________________________\n",
            " Layer (type)                Output Shape              Param #   \n",
            "=================================================================\n",
            " embedding (Embedding)       (None, 6, 100)            230100    \n",
            "                                                                 \n",
            " lambda (Lambda)             (None, 100)               0         \n",
            "                                                                 \n",
            " dense (Dense)               (None, 2301)              232401    \n",
            "                                                                 \n",
            "=================================================================\n",
            "Total params: 462,501\n",
            "Trainable params: 462,501\n",
            "Non-trainable params: 0\n",
            "_________________________________________________________________\n",
            "None\n"
          ]
        }
      ]
    },
    {
      "cell_type": "code",
      "source": [
        "from tensorflow import keras\n",
        "from keras.utils.vis_utils import plot_model\n",
        "\n",
        "keras.utils.plot_model(cbow, to_file='model.png', show_layer_names=True)"
      ],
      "metadata": {
        "colab": {
          "base_uri": "https://localhost:8080/",
          "height": 369
        },
        "id": "Tv9y0VBSPJPc",
        "outputId": "5b4252b2-92b3-4c94-a58e-44ba1fbbd815"
      },
      "execution_count": null,
      "outputs": [
        {
          "output_type": "execute_result",
          "data": {
            "image/png": "[encoded data removed]",
            "text/plain": [
              "<IPython.core.display.Image object>"
            ]
          },
          "metadata": {},
          "execution_count": 15
        }
      ]
    },
    {
      "cell_type": "code",
      "source": [
        "for epoch in range(1, 6):\n",
        "    loss = 0.\n",
        "    i = 0\n",
        "    for x, y in generate_context_word_pairs(corpus=wids, window_size=window_size, vocab_size=vocab_size):\n",
        "        i += 1\n",
        "        loss += cbow.train_on_batch(x, y)\n",
        "        if i % 100000 == 0:\n",
        "            print('Processed {} (context, word) pairs'.format(i))\n",
        "\n",
        "    print('Epoch:', epoch, '\\tLoss:', loss)\n",
        "    print()"
      ],
      "metadata": {
        "colab": {
          "base_uri": "https://localhost:8080/"
        },
        "id": "WmsSkwb2HF3Y",
        "outputId": "d15b701f-7da2-42b0-e698-dbc7843c3747"
      },
      "execution_count": null,
      "outputs": [
        {
          "output_type": "stream",
          "name": "stdout",
          "text": [
            "Epoch: 1 \tLoss: 29160.260709762573\n",
            "\n",
            "Epoch: 2 \tLoss: 27742.961939573288\n",
            "\n",
            "Epoch: 3 \tLoss: 26604.22905778885\n",
            "\n",
            "Epoch: 4 \tLoss: 25812.739891529083\n",
            "\n",
            "Epoch: 5 \tLoss: 25282.35440659523\n",
            "\n"
          ]
        }
      ]
    },
    {
      "cell_type": "code",
      "source": [
        "weights = cbow.get_weights()[0]\n",
        "weights = weights[1:]\n",
        "print(weights.shape)\n",
        "\n",
        "pd.DataFrame(weights, index=list(id2word.values())[1:]).head()"
      ],
      "metadata": {
        "colab": {
          "base_uri": "https://localhost:8080/",
          "height": 314
        },
        "id": "OYpf9dXEHLyu",
        "outputId": "f760805b-d3f3-431d-b17a-6a9e675d8a15"
      },
      "execution_count": null,
      "outputs": [
        {
          "output_type": "stream",
          "name": "stdout",
          "text": [
            "(2300, 100)\n"
          ]
        },
        {
          "output_type": "execute_result",
          "data": {
            "text/plain": [
              "              0         1         2         3         4         5         6   \\\n",
              "gregor  0.023744 -0.040685 -0.036144 -0.024317 -0.038357 -0.035918 -0.013021   \n",
              "it     -0.005489 -0.004025  0.005495  0.007808  0.038068 -0.037266 -0.049462   \n",
              "that    0.034596 -0.001590  0.047709  0.023958  0.024312 -0.005177 -0.043517   \n",
              "well   -0.026541 -0.032514  0.047808 -0.031878  0.019679 -0.034412 -0.025110   \n",
              "mother  0.014884 -0.008076  0.017179 -0.004465  0.014020 -0.028612  0.049106   \n",
              "\n",
              "              7         8         9   ...        90        91        92  \\\n",
              "gregor -0.041291 -0.024223 -0.018698  ... -0.038298 -0.027892  0.044938   \n",
              "it     -0.044340 -0.019140  0.008943  ...  0.013930  0.040223  0.017877   \n",
              "that   -0.016345  0.029024 -0.027924  ...  0.026836  0.040550  0.038178   \n",
              "well    0.019208 -0.005094  0.030039  ...  0.002275  0.016265 -0.048974   \n",
              "mother -0.024296  0.021498 -0.016259  ...  0.040421 -0.027437 -0.054026   \n",
              "\n",
              "              93        94        95        96        97        98        99  \n",
              "gregor  0.014883 -0.025828  0.007021 -0.006605 -0.006175 -0.041897  0.018853  \n",
              "it     -0.039958  0.023830  0.000278 -0.026621 -0.027981  0.010081 -0.043598  \n",
              "that    0.001025 -0.024915  0.019018 -0.032302 -0.019508  0.025517 -0.008339  \n",
              "well    0.018243 -0.024466 -0.047905  0.023342  0.021258 -0.024924  0.012331  \n",
              "mother -0.003026 -0.008350 -0.026527  0.039220  0.009300  0.038524 -0.005104  \n",
              "\n",
              "[5 rows x 100 columns]"
            ],
            "text/html": [
              "\n",
              "  <div id=\"df-711c6d1e-3c09-4972-b9cd-1114350fda10\">\n",
              "    <div class=\"colab-df-container\">\n",
              "      <div>\n",
              "<style scoped>\n",
              "    .dataframe tbody tr th:only-of-type {\n",
              "        vertical-align: middle;\n",
              "    }\n",
              "\n",
              "    .dataframe tbody tr th {\n",
              "        vertical-align: top;\n",
              "    }\n",
              "\n",
              "    .dataframe thead th {\n",
              "        text-align: right;\n",
              "    }\n",
              "</style>\n",
              "<table border=\"1\" class=\"dataframe\">\n",
              "  <thead>\n",
              "    <tr style=\"text-align: right;\">\n",
              "      <th></th>\n",
              "      <th>0</th>\n",
              "      <th>1</th>\n",
              "      <th>2</th>\n",
              "      <th>3</th>\n",
              "      <th>4</th>\n",
              "      <th>5</th>\n",
              "      <th>6</th>\n",
              "      <th>7</th>\n",
              "      <th>8</th>\n",
              "      <th>9</th>\n",
              "      <th>...</th>\n",
              "      <th>90</th>\n",
              "      <th>91</th>\n",
              "      <th>92</th>\n",
              "      <th>93</th>\n",
              "      <th>94</th>\n",
              "      <th>95</th>\n",
              "      <th>96</th>\n",
              "      <th>97</th>\n",
              "      <th>98</th>\n",
              "      <th>99</th>\n",
              "    </tr>\n",
              "  </thead>\n",
              "  <tbody>\n",
              "    <tr>\n",
              "      <th>gregor</th>\n",
              "      <td>0.023744</td>\n",
              "      <td>-0.040685</td>\n",
              "      <td>-0.036144</td>\n",
              "      <td>-0.024317</td>\n",
              "      <td>-0.038357</td>\n",
              "      <td>-0.035918</td>\n",
              "      <td>-0.013021</td>\n",
              "      <td>-0.041291</td>\n",
              "      <td>-0.024223</td>\n",
              "      <td>-0.018698</td>\n",
              "      <td>...</td>\n",
              "      <td>-0.038298</td>\n",
              "      <td>-0.027892</td>\n",
              "      <td>0.044938</td>\n",
              "      <td>0.014883</td>\n",
              "      <td>-0.025828</td>\n",
              "      <td>0.007021</td>\n",
              "      <td>-0.006605</td>\n",
              "      <td>-0.006175</td>\n",
              "      <td>-0.041897</td>\n",
              "      <td>0.018853</td>\n",
              "    </tr>\n",
              "    <tr>\n",
              "      <th>it</th>\n",
              "      <td>-0.005489</td>\n",
              "      <td>-0.004025</td>\n",
              "      <td>0.005495</td>\n",
              "      <td>0.007808</td>\n",
              "      <td>0.038068</td>\n",
              "      <td>-0.037266</td>\n",
              "      <td>-0.049462</td>\n",
              "      <td>-0.044340</td>\n",
              "      <td>-0.019140</td>\n",
              "      <td>0.008943</td>\n",
              "      <td>...</td>\n",
              "      <td>0.013930</td>\n",
              "      <td>0.040223</td>\n",
              "      <td>0.017877</td>\n",
              "      <td>-0.039958</td>\n",
              "      <td>0.023830</td>\n",
              "      <td>0.000278</td>\n",
              "      <td>-0.026621</td>\n",
              "      <td>-0.027981</td>\n",
              "      <td>0.010081</td>\n",
              "      <td>-0.043598</td>\n",
              "    </tr>\n",
              "    <tr>\n",
              "      <th>that</th>\n",
              "      <td>0.034596</td>\n",
              "      <td>-0.001590</td>\n",
              "      <td>0.047709</td>\n",
              "      <td>0.023958</td>\n",
              "      <td>0.024312</td>\n",
              "      <td>-0.005177</td>\n",
              "      <td>-0.043517</td>\n",
              "      <td>-0.016345</td>\n",
              "      <td>0.029024</td>\n",
              "      <td>-0.027924</td>\n",
              "      <td>...</td>\n",
              "      <td>0.026836</td>\n",
              "      <td>0.040550</td>\n",
              "      <td>0.038178</td>\n",
              "      <td>0.001025</td>\n",
              "      <td>-0.024915</td>\n",
              "      <td>0.019018</td>\n",
              "      <td>-0.032302</td>\n",
              "      <td>-0.019508</td>\n",
              "      <td>0.025517</td>\n",
              "      <td>-0.008339</td>\n",
              "    </tr>\n",
              "    <tr>\n",
              "      <th>well</th>\n",
              "      <td>-0.026541</td>\n",
              "      <td>-0.032514</td>\n",
              "      <td>0.047808</td>\n",
              "      <td>-0.031878</td>\n",
              "      <td>0.019679</td>\n",
              "      <td>-0.034412</td>\n",
              "      <td>-0.025110</td>\n",
              "      <td>0.019208</td>\n",
              "      <td>-0.005094</td>\n",
              "      <td>0.030039</td>\n",
              "      <td>...</td>\n",
              "      <td>0.002275</td>\n",
              "      <td>0.016265</td>\n",
              "      <td>-0.048974</td>\n",
              "      <td>0.018243</td>\n",
              "      <td>-0.024466</td>\n",
              "      <td>-0.047905</td>\n",
              "      <td>0.023342</td>\n",
              "      <td>0.021258</td>\n",
              "      <td>-0.024924</td>\n",
              "      <td>0.012331</td>\n",
              "    </tr>\n",
              "    <tr>\n",
              "      <th>mother</th>\n",
              "      <td>0.014884</td>\n",
              "      <td>-0.008076</td>\n",
              "      <td>0.017179</td>\n",
              "      <td>-0.004465</td>\n",
              "      <td>0.014020</td>\n",
              "      <td>-0.028612</td>\n",
              "      <td>0.049106</td>\n",
              "      <td>-0.024296</td>\n",
              "      <td>0.021498</td>\n",
              "      <td>-0.016259</td>\n",
              "      <td>...</td>\n",
              "      <td>0.040421</td>\n",
              "      <td>-0.027437</td>\n",
              "      <td>-0.054026</td>\n",
              "      <td>-0.003026</td>\n",
              "      <td>-0.008350</td>\n",
              "      <td>-0.026527</td>\n",
              "      <td>0.039220</td>\n",
              "      <td>0.009300</td>\n",
              "      <td>0.038524</td>\n",
              "      <td>-0.005104</td>\n",
              "    </tr>\n",
              "  </tbody>\n",
              "</table>\n",
              "<p>5 rows × 100 columns</p>\n",
              "</div>\n",
              "      <button class=\"colab-df-convert\" onclick=\"convertToInteractive('df-711c6d1e-3c09-4972-b9cd-1114350fda10')\"\n",
              "              title=\"Convert this dataframe to an interactive table.\"\n",
              "              style=\"display:none;\">\n",
              "        \n",
              "  <svg xmlns=\"http://www.w3.org/2000/svg\" height=\"24px\"viewBox=\"0 0 24 24\"\n",
              "       width=\"24px\">\n",
              "    <path d=\"M0 0h24v24H0V0z\" fill=\"none\"/>\n",
              "    <path d=\"M18.56 5.44l.94 2.06.94-2.06 2.06-.94-2.06-.94-.94-2.06-.94 2.06-2.06.94zm-11 1L8.5 8.5l.94-2.06 2.06-.94-2.06-.94L8.5 2.5l-.94 2.06-2.06.94zm10 10l.94 2.06.94-2.06 2.06-.94-2.06-.94-.94-2.06-.94 2.06-2.06.94z\"/><path d=\"M17.41 7.96l-1.37-1.37c-.4-.4-.92-.59-1.43-.59-.52 0-1.04.2-1.43.59L10.3 9.45l-7.72 7.72c-.78.78-.78 2.05 0 2.83L4 21.41c.39.39.9.59 1.41.59.51 0 1.02-.2 1.41-.59l7.78-7.78 2.81-2.81c.8-.78.8-2.07 0-2.86zM5.41 20L4 18.59l7.72-7.72 1.47 1.35L5.41 20z\"/>\n",
              "  </svg>\n",
              "      </button>\n",
              "      \n",
              "  <style>\n",
              "    .colab-df-container {\n",
              "      display:flex;\n",
              "      flex-wrap:wrap;\n",
              "      gap: 12px;\n",
              "    }\n",
              "\n",
              "    .colab-df-convert {\n",
              "      background-color: #E8F0FE;\n",
              "      border: none;\n",
              "      border-radius: 50%;\n",
              "      cursor: pointer;\n",
              "      display: none;\n",
              "      fill: #1967D2;\n",
              "      height: 32px;\n",
              "      padding: 0 0 0 0;\n",
              "      width: 32px;\n",
              "    }\n",
              "\n",
              "    .colab-df-convert:hover {\n",
              "      background-color: #E2EBFA;\n",
              "      box-shadow: 0px 1px 2px rgba(60, 64, 67, 0.3), 0px 1px 3px 1px rgba(60, 64, 67, 0.15);\n",
              "      fill: #174EA6;\n",
              "    }\n",
              "\n",
              "    [theme=dark] .colab-df-convert {\n",
              "      background-color: #3B4455;\n",
              "      fill: #D2E3FC;\n",
              "    }\n",
              "\n",
              "    [theme=dark] .colab-df-convert:hover {\n",
              "      background-color: #434B5C;\n",
              "      box-shadow: 0px 1px 3px 1px rgba(0, 0, 0, 0.15);\n",
              "      filter: drop-shadow(0px 1px 2px rgba(0, 0, 0, 0.3));\n",
              "      fill: #FFFFFF;\n",
              "    }\n",
              "  </style>\n",
              "\n",
              "      <script>\n",
              "        const buttonEl =\n",
              "          document.querySelector('#df-711c6d1e-3c09-4972-b9cd-1114350fda10 button.colab-df-convert');\n",
              "        buttonEl.style.display =\n",
              "          google.colab.kernel.accessAllowed ? 'block' : 'none';\n",
              "\n",
              "        async function convertToInteractive(key) {\n",
              "          const element = document.querySelector('#df-711c6d1e-3c09-4972-b9cd-1114350fda10');\n",
              "          const dataTable =\n",
              "            await google.colab.kernel.invokeFunction('convertToInteractive',\n",
              "                                                     [key], {});\n",
              "          if (!dataTable) return;\n",
              "\n",
              "          const docLinkHtml = 'Like what you see? Visit the ' +\n",
              "            '<a target=\"_blank\" href=https://colab.research.google.com/notebooks/data_table.ipynb>data table notebook</a>'\n",
              "            + ' to learn more about interactive tables.';\n",
              "          element.innerHTML = '';\n",
              "          dataTable['output_type'] = 'display_data';\n",
              "          await google.colab.output.renderOutput(dataTable, element);\n",
              "          const docLink = document.createElement('div');\n",
              "          docLink.innerHTML = docLinkHtml;\n",
              "          element.appendChild(docLink);\n",
              "        }\n",
              "      </script>\n",
              "    </div>\n",
              "  </div>\n",
              "  "
            ]
          },
          "metadata": {},
          "execution_count": 17
        }
      ]
    },
    {
      "cell_type": "code",
      "source": [
        "document_embeddings = pd.DataFrame(weights, index=list(id2word.values())[1:])"
      ],
      "metadata": {
        "id": "PfxofMz5nOX8"
      },
      "execution_count": null,
      "outputs": []
    },
    {
      "cell_type": "code",
      "source": [
        "from sklearn.metrics.pairwise import cosine_similarity\n",
        "from sklearn.metrics.pairwise import euclidean_distances\n"
      ],
      "metadata": {
        "id": "jgWGYEuJknvp"
      },
      "execution_count": null,
      "outputs": []
    },
    {
      "cell_type": "code",
      "source": [
        "pairwise_similarities=cosine_similarity(document_embeddings)\n",
        "\n",
        "pairwise_differences=euclidean_distances(document_embeddings)"
      ],
      "metadata": {
        "id": "pYqAZrMFm5oa"
      },
      "execution_count": null,
      "outputs": []
    },
    {
      "cell_type": "code",
      "source": [
        "pairwise_similarities"
      ],
      "metadata": {
        "colab": {
          "base_uri": "https://localhost:8080/"
        },
        "id": "e7eP1lZunyDx",
        "outputId": "8daf4b29-6033-4938-f1ba-8f1670ec803d"
      },
      "execution_count": null,
      "outputs": [
        {
          "output_type": "execute_result",
          "data": {
            "text/plain": [
              "array([[ 0.99999994,  0.01896471,  0.10725815, ...,  0.03844744,\n",
              "        -0.02350457, -0.11420418],\n",
              "       [ 0.01896471,  1.0000001 ,  0.21892357, ...,  0.06014183,\n",
              "        -0.00970269, -0.07788887],\n",
              "       [ 0.10725815,  0.21892357,  0.9999998 , ...,  0.1077636 ,\n",
              "         0.00876198, -0.16427895],\n",
              "       ...,\n",
              "       [ 0.03844744,  0.06014183,  0.1077636 , ...,  0.99999994,\n",
              "        -0.0011755 ,  0.02129892],\n",
              "       [-0.02350457, -0.00970269,  0.00876198, ..., -0.0011755 ,\n",
              "         1.0000001 , -0.05249636],\n",
              "       [-0.11420418, -0.07788887, -0.16427895, ...,  0.02129892,\n",
              "        -0.05249636,  1.        ]], dtype=float32)"
            ]
          },
          "metadata": {},
          "execution_count": 38
        }
      ]
    },
    {
      "cell_type": "code",
      "source": [
        "pairwise_differences"
      ],
      "metadata": {
        "colab": {
          "base_uri": "https://localhost:8080/"
        },
        "id": "I_PROdMun15G",
        "outputId": "bcec10e9-56dc-4784-a8bd-924d8d61e42a"
      },
      "execution_count": null,
      "outputs": [
        {
          "output_type": "execute_result",
          "data": {
            "text/plain": [
              "array([[0.        , 0.4071224 , 0.39082617, ..., 0.4118986 , 0.4243351 ,\n",
              "        0.4172602 ],\n",
              "       [0.4071224 , 0.        , 0.35077012, ..., 0.39131042, 0.40493625,\n",
              "        0.39248756],\n",
              "       [0.39082617, 0.35077012, 0.        , ..., 0.38372654, 0.40381527,\n",
              "        0.41081995],\n",
              "       ...,\n",
              "       [0.4118986 , 0.39131042, 0.38372654, ..., 0.        , 0.4124278 ,\n",
              "        0.38376558],\n",
              "       [0.4243351 , 0.40493625, 0.40381527, ..., 0.4124278 , 0.        ,\n",
              "        0.39717108],\n",
              "       [0.4172602 , 0.39248756, 0.41081995, ..., 0.38376558, 0.39717108,\n",
              "        0.        ]], dtype=float32)"
            ]
          },
          "metadata": {},
          "execution_count": 37
        }
      ]
    },
    {
      "cell_type": "markdown",
      "source": [
        "#### 2. How could one make use these other vectorizations to improve sentiment analysis by considering longer sequences within the text just than single words?"
      ],
      "metadata": {
        "id": "vOv5k1MaOoYC"
      }
    },
    {
      "cell_type": "markdown",
      "source": [
        "##### URL: https://datasciencetoday.net/index.php/en-us/tutorials-top/162-sentiment-analysis-using-python-part-ii-doc2vec-vs-word2vec\n",
        "##### Title : Sentiment Analysis using Python (Part II - Doc2vec vs Word2vec)\n",
        "##### Author : Oumaima Hourrane"
      ],
      "metadata": {
        "id": "IoMvUr3u6Snk"
      }
    },
    {
      "cell_type": "code",
      "source": [
        "dataset = pd.read_csv('/content/movie_reviews (1).csv.bz2', compression='bz2')\n",
        "dataset.head()"
      ],
      "metadata": {
        "colab": {
          "base_uri": "https://localhost:8080/",
          "height": 204
        },
        "id": "CRzvbWuOOyn_",
        "outputId": "ba8b10e9-608b-4f3e-ae23-e56675ad9008"
      },
      "execution_count": null,
      "outputs": [
        {
          "output_type": "execute_result",
          "data": {
            "text/plain": [
              "                                              review sentiment\n",
              "0  One of the other reviewers has mentioned that ...  positive\n",
              "1  A wonderful little production. <br /><br />The...  positive\n",
              "2  I thought this was a wonderful way to spend ti...  positive\n",
              "3  Basically there's a family where a little boy ...  negative\n",
              "4  Petter Mattei's \"Love in the Time of Money\" is...  positive"
            ],
            "text/html": [
              "\n",
              "  <div id=\"df-538187ed-27c8-4e78-a53b-19d3d2d80c61\">\n",
              "    <div class=\"colab-df-container\">\n",
              "      <div>\n",
              "<style scoped>\n",
              "    .dataframe tbody tr th:only-of-type {\n",
              "        vertical-align: middle;\n",
              "    }\n",
              "\n",
              "    .dataframe tbody tr th {\n",
              "        vertical-align: top;\n",
              "    }\n",
              "\n",
              "    .dataframe thead th {\n",
              "        text-align: right;\n",
              "    }\n",
              "</style>\n",
              "<table border=\"1\" class=\"dataframe\">\n",
              "  <thead>\n",
              "    <tr style=\"text-align: right;\">\n",
              "      <th></th>\n",
              "      <th>review</th>\n",
              "      <th>sentiment</th>\n",
              "    </tr>\n",
              "  </thead>\n",
              "  <tbody>\n",
              "    <tr>\n",
              "      <th>0</th>\n",
              "      <td>One of the other reviewers has mentioned that ...</td>\n",
              "      <td>positive</td>\n",
              "    </tr>\n",
              "    <tr>\n",
              "      <th>1</th>\n",
              "      <td>A wonderful little production. &lt;br /&gt;&lt;br /&gt;The...</td>\n",
              "      <td>positive</td>\n",
              "    </tr>\n",
              "    <tr>\n",
              "      <th>2</th>\n",
              "      <td>I thought this was a wonderful way to spend ti...</td>\n",
              "      <td>positive</td>\n",
              "    </tr>\n",
              "    <tr>\n",
              "      <th>3</th>\n",
              "      <td>Basically there's a family where a little boy ...</td>\n",
              "      <td>negative</td>\n",
              "    </tr>\n",
              "    <tr>\n",
              "      <th>4</th>\n",
              "      <td>Petter Mattei's \"Love in the Time of Money\" is...</td>\n",
              "      <td>positive</td>\n",
              "    </tr>\n",
              "  </tbody>\n",
              "</table>\n",
              "</div>\n",
              "      <button class=\"colab-df-convert\" onclick=\"convertToInteractive('df-538187ed-27c8-4e78-a53b-19d3d2d80c61')\"\n",
              "              title=\"Convert this dataframe to an interactive table.\"\n",
              "              style=\"display:none;\">\n",
              "        \n",
              "  <svg xmlns=\"http://www.w3.org/2000/svg\" height=\"24px\"viewBox=\"0 0 24 24\"\n",
              "       width=\"24px\">\n",
              "    <path d=\"M0 0h24v24H0V0z\" fill=\"none\"/>\n",
              "    <path d=\"M18.56 5.44l.94 2.06.94-2.06 2.06-.94-2.06-.94-.94-2.06-.94 2.06-2.06.94zm-11 1L8.5 8.5l.94-2.06 2.06-.94-2.06-.94L8.5 2.5l-.94 2.06-2.06.94zm10 10l.94 2.06.94-2.06 2.06-.94-2.06-.94-.94-2.06-.94 2.06-2.06.94z\"/><path d=\"M17.41 7.96l-1.37-1.37c-.4-.4-.92-.59-1.43-.59-.52 0-1.04.2-1.43.59L10.3 9.45l-7.72 7.72c-.78.78-.78 2.05 0 2.83L4 21.41c.39.39.9.59 1.41.59.51 0 1.02-.2 1.41-.59l7.78-7.78 2.81-2.81c.8-.78.8-2.07 0-2.86zM5.41 20L4 18.59l7.72-7.72 1.47 1.35L5.41 20z\"/>\n",
              "  </svg>\n",
              "      </button>\n",
              "      \n",
              "  <style>\n",
              "    .colab-df-container {\n",
              "      display:flex;\n",
              "      flex-wrap:wrap;\n",
              "      gap: 12px;\n",
              "    }\n",
              "\n",
              "    .colab-df-convert {\n",
              "      background-color: #E8F0FE;\n",
              "      border: none;\n",
              "      border-radius: 50%;\n",
              "      cursor: pointer;\n",
              "      display: none;\n",
              "      fill: #1967D2;\n",
              "      height: 32px;\n",
              "      padding: 0 0 0 0;\n",
              "      width: 32px;\n",
              "    }\n",
              "\n",
              "    .colab-df-convert:hover {\n",
              "      background-color: #E2EBFA;\n",
              "      box-shadow: 0px 1px 2px rgba(60, 64, 67, 0.3), 0px 1px 3px 1px rgba(60, 64, 67, 0.15);\n",
              "      fill: #174EA6;\n",
              "    }\n",
              "\n",
              "    [theme=dark] .colab-df-convert {\n",
              "      background-color: #3B4455;\n",
              "      fill: #D2E3FC;\n",
              "    }\n",
              "\n",
              "    [theme=dark] .colab-df-convert:hover {\n",
              "      background-color: #434B5C;\n",
              "      box-shadow: 0px 1px 3px 1px rgba(0, 0, 0, 0.15);\n",
              "      filter: drop-shadow(0px 1px 2px rgba(0, 0, 0, 0.3));\n",
              "      fill: #FFFFFF;\n",
              "    }\n",
              "  </style>\n",
              "\n",
              "      <script>\n",
              "        const buttonEl =\n",
              "          document.querySelector('#df-538187ed-27c8-4e78-a53b-19d3d2d80c61 button.colab-df-convert');\n",
              "        buttonEl.style.display =\n",
              "          google.colab.kernel.accessAllowed ? 'block' : 'none';\n",
              "\n",
              "        async function convertToInteractive(key) {\n",
              "          const element = document.querySelector('#df-538187ed-27c8-4e78-a53b-19d3d2d80c61');\n",
              "          const dataTable =\n",
              "            await google.colab.kernel.invokeFunction('convertToInteractive',\n",
              "                                                     [key], {});\n",
              "          if (!dataTable) return;\n",
              "\n",
              "          const docLinkHtml = 'Like what you see? Visit the ' +\n",
              "            '<a target=\"_blank\" href=https://colab.research.google.com/notebooks/data_table.ipynb>data table notebook</a>'\n",
              "            + ' to learn more about interactive tables.';\n",
              "          element.innerHTML = '';\n",
              "          dataTable['output_type'] = 'display_data';\n",
              "          await google.colab.output.renderOutput(dataTable, element);\n",
              "          const docLink = document.createElement('div');\n",
              "          docLink.innerHTML = docLinkHtml;\n",
              "          element.appendChild(docLink);\n",
              "        }\n",
              "      </script>\n",
              "    </div>\n",
              "  </div>\n",
              "  "
            ]
          },
          "metadata": {},
          "execution_count": 56
        }
      ]
    },
    {
      "cell_type": "code",
      "source": [
        "from sklearn.model_selection import train_test_split\n",
        "SEED = 999\n",
        "\n",
        "x_train, x_validation, y_train, y_validation = train_test_split(dataset.review, dataset.sentiment, test_size=.25, random_state=SEED)"
      ],
      "metadata": {
        "id": "hrJu3U8qP6Qp"
      },
      "execution_count": null,
      "outputs": []
    },
    {
      "cell_type": "code",
      "source": [
        "import gensim\n",
        "from gensim.models.doc2vec import TaggedDocument\n",
        "def labelize_text(text,label):\n",
        "    result = []\n",
        "    prefix = label\n",
        "    for i, t in zip(text.index, text):\n",
        "        result.append(TaggedDocument(t.split(), [prefix + '_%s' % i]))\n",
        "    return result\n",
        "  \n",
        "all_x = pd.concat([x_train,x_validation])\n",
        "\n",
        "all_x_w2v = labelize_text(all_x, 'ALL')\n",
        "x_train = labelize_text(x_train, 'TRAIN')\n",
        "x_validation = labelize_text(x_validation, 'TEST')"
      ],
      "metadata": {
        "id": "nRsuoGM-QcIZ"
      },
      "execution_count": null,
      "outputs": []
    },
    {
      "cell_type": "code",
      "source": [
        "from gensim.models.word2vec import Word2Vec\n",
        "from tqdm import tqdm\n",
        "from sklearn import utils\n",
        "import numpy as np\n",
        "\n",
        "model_w2v = Word2Vec(size=200, min_count=10)\n",
        "model_w2v.build_vocab([x.words for x in tqdm(all_x_w2v)])\n",
        "model_w2v.train([x.words for x in tqdm(all_x_w2v)], total_examples=len(all_x_w2v), epochs=1)"
      ],
      "metadata": {
        "colab": {
          "base_uri": "https://localhost:8080/"
        },
        "id": "ZO6qwPs6REvR",
        "outputId": "7f0b51b4-bdb4-4232-ec72-eb027cb01bc1"
      },
      "execution_count": null,
      "outputs": [
        {
          "output_type": "stream",
          "name": "stderr",
          "text": [
            "100%|██████████| 50000/50000 [00:00<00:00, 2009247.43it/s]\n",
            "100%|██████████| 50000/50000 [00:00<00:00, 2496728.42it/s]\n"
          ]
        },
        {
          "output_type": "execute_result",
          "data": {
            "text/plain": [
              "(8367639, 11557847)"
            ]
          },
          "metadata": {},
          "execution_count": 280
        }
      ]
    },
    {
      "cell_type": "code",
      "source": [
        "from sklearn.feature_extraction.text import TfidfVectorizer\n",
        "\n",
        "vectorizer = TfidfVectorizer(analyzer=lambda x: x, min_df=10)\n",
        "matrix = vectorizer.fit_transform([x.words for x in all_x_w2v])\n",
        "tfidf = dict(zip(vectorizer.get_feature_names_out(), vectorizer.idf_))\n",
        "\n",
        "def build_Word_Vector(tokens, size):\n",
        "    vec = np.zeros(size).reshape((1, size))\n",
        "    count = 0.\n",
        "    for word in tokens:\n",
        "        try:\n",
        "            vec += model_w2v[word].reshape((1, size)) * tfidf[word]\n",
        "            count += 1.\n",
        "        except KeyError: \n",
        "            \n",
        "            continue\n",
        "    if count != 0:\n",
        "        vec /= count\n",
        "    return vec"
      ],
      "metadata": {
        "id": "15fAamhgRfl6"
      },
      "execution_count": null,
      "outputs": []
    },
    {
      "cell_type": "code",
      "source": [
        "y_validation = y_validation.replace('negative', 0).replace('positive', 1)\n",
        "y_train= y_train.replace('negative', 0).replace('positive', 1)"
      ],
      "metadata": {
        "id": "qbOMJYb9ZZpv"
      },
      "execution_count": null,
      "outputs": []
    },
    {
      "cell_type": "code",
      "source": [
        "from sklearn.preprocessing import scale\n",
        "import numpy as np\n",
        "from keras.models import Sequential\n",
        "from keras.layers import Dense\n",
        "\n",
        "train_vecs_w2v = np.concatenate([build_Word_Vector(z, 200) for z in tqdm(map(lambda x: x.words, x_train))])\n",
        "train_vecs_w2v = scale(train_vecs_w2v)\n",
        "val_vecs_w2v = np.concatenate([build_Word_Vector(z, 200) for z in tqdm(map(lambda x: x.words, x_validation))])\n",
        "val_vecs_w2v = scale(val_vecs_w2v)\n",
        "\n",
        "\n",
        "model = Sequential()\n",
        "model.add(Dense(256, activation='relu', input_dim=200))\n",
        "model.add(Dense(256, activation='relu'))\n",
        "model.add(Dense(256, activation='relu'))\n",
        "model.add(Dense(1, activation='sigmoid'))\n",
        "model.compile(optimizer='adam',\n",
        "              loss='binary_crossentropy',\n",
        "              metrics=['accuracy'])\n",
        "\n",
        "model.fit(train_vecs_w2v, y_train, epochs=100, batch_size=32, verbose=2)\n",
        "\n",
        "score = model.evaluate(val_vecs_w2v, y_validation, batch_size=128, verbose=2)\n",
        "print(score[1])"
      ],
      "metadata": {
        "colab": {
          "base_uri": "https://localhost:8080/"
        },
        "id": "FWky8hD1Ro_a",
        "outputId": "cf8609a0-dc10-48e4-c00d-b26a7fe5920d"
      },
      "execution_count": null,
      "outputs": [
        {
          "output_type": "stream",
          "name": "stderr",
          "text": [
            "0it [00:00, ?it/s]/usr/local/lib/python3.7/dist-packages/ipykernel_launcher.py:12: DeprecationWarning: Call to deprecated `__getitem__` (Method will be removed in 4.0.0, use self.wv.__getitem__() instead).\n",
            "  if sys.path[0] == '':\n",
            "37500it [01:11, 521.91it/s]\n",
            "0it [00:00, ?it/s]/usr/local/lib/python3.7/dist-packages/ipykernel_launcher.py:12: DeprecationWarning: Call to deprecated `__getitem__` (Method will be removed in 4.0.0, use self.wv.__getitem__() instead).\n",
            "  if sys.path[0] == '':\n",
            "12500it [00:27, 452.02it/s]\n"
          ]
        },
        {
          "output_type": "stream",
          "name": "stdout",
          "text": [
            "Train on 37500 samples\n",
            "Epoch 1/100\n",
            "37500/37500 - 3s - loss: 0.5065 - accuracy: 0.7581 - 3s/epoch - 72us/sample\n",
            "Epoch 2/100\n",
            "37500/37500 - 2s - loss: 0.4768 - accuracy: 0.7746 - 2s/epoch - 66us/sample\n",
            "Epoch 3/100\n",
            "37500/37500 - 2s - loss: 0.4668 - accuracy: 0.7802 - 2s/epoch - 67us/sample\n",
            "Epoch 4/100\n",
            "37500/37500 - 2s - loss: 0.4574 - accuracy: 0.7858 - 2s/epoch - 64us/sample\n",
            "Epoch 5/100\n",
            "37500/37500 - 2s - loss: 0.4517 - accuracy: 0.7882 - 2s/epoch - 66us/sample\n",
            "Epoch 6/100\n",
            "37500/37500 - 2s - loss: 0.4451 - accuracy: 0.7898 - 2s/epoch - 64us/sample\n",
            "Epoch 7/100\n",
            "37500/37500 - 2s - loss: 0.4381 - accuracy: 0.7950 - 2s/epoch - 64us/sample\n",
            "Epoch 8/100\n",
            "37500/37500 - 2s - loss: 0.4298 - accuracy: 0.7995 - 2s/epoch - 64us/sample\n",
            "Epoch 9/100\n",
            "37500/37500 - 2s - loss: 0.4207 - accuracy: 0.8039 - 2s/epoch - 65us/sample\n",
            "Epoch 10/100\n",
            "37500/37500 - 2s - loss: 0.4115 - accuracy: 0.8075 - 2s/epoch - 62us/sample\n",
            "Epoch 11/100\n",
            "37500/37500 - 2s - loss: 0.3986 - accuracy: 0.8150 - 2s/epoch - 64us/sample\n",
            "Epoch 12/100\n",
            "37500/37500 - 2s - loss: 0.3857 - accuracy: 0.8223 - 2s/epoch - 63us/sample\n",
            "Epoch 13/100\n",
            "37500/37500 - 2s - loss: 0.3723 - accuracy: 0.8290 - 2s/epoch - 66us/sample\n",
            "Epoch 14/100\n",
            "37500/37500 - 2s - loss: 0.3549 - accuracy: 0.8382 - 2s/epoch - 64us/sample\n",
            "Epoch 15/100\n",
            "37500/37500 - 2s - loss: 0.3420 - accuracy: 0.8443 - 2s/epoch - 64us/sample\n",
            "Epoch 16/100\n",
            "37500/37500 - 2s - loss: 0.3239 - accuracy: 0.8530 - 2s/epoch - 64us/sample\n",
            "Epoch 17/100\n",
            "37500/37500 - 2s - loss: 0.3090 - accuracy: 0.8596 - 2s/epoch - 64us/sample\n",
            "Epoch 18/100\n",
            "37500/37500 - 2s - loss: 0.2910 - accuracy: 0.8706 - 2s/epoch - 64us/sample\n",
            "Epoch 19/100\n",
            "37500/37500 - 2s - loss: 0.2751 - accuracy: 0.8783 - 2s/epoch - 63us/sample\n",
            "Epoch 20/100\n",
            "37500/37500 - 2s - loss: 0.2606 - accuracy: 0.8845 - 2s/epoch - 64us/sample\n",
            "Epoch 21/100\n",
            "37500/37500 - 2s - loss: 0.2500 - accuracy: 0.8908 - 2s/epoch - 63us/sample\n",
            "Epoch 22/100\n",
            "37500/37500 - 2s - loss: 0.2368 - accuracy: 0.8956 - 2s/epoch - 64us/sample\n",
            "Epoch 23/100\n",
            "37500/37500 - 2s - loss: 0.2246 - accuracy: 0.9021 - 2s/epoch - 66us/sample\n",
            "Epoch 24/100\n",
            "37500/37500 - 2s - loss: 0.2045 - accuracy: 0.9131 - 2s/epoch - 66us/sample\n",
            "Epoch 25/100\n",
            "37500/37500 - 2s - loss: 0.2000 - accuracy: 0.9130 - 2s/epoch - 64us/sample\n",
            "Epoch 26/100\n",
            "37500/37500 - 2s - loss: 0.1915 - accuracy: 0.9194 - 2s/epoch - 63us/sample\n",
            "Epoch 27/100\n",
            "37500/37500 - 2s - loss: 0.1840 - accuracy: 0.9219 - 2s/epoch - 62us/sample\n",
            "Epoch 28/100\n",
            "37500/37500 - 2s - loss: 0.1759 - accuracy: 0.9252 - 2s/epoch - 64us/sample\n",
            "Epoch 29/100\n",
            "37500/37500 - 2s - loss: 0.1654 - accuracy: 0.9305 - 2s/epoch - 64us/sample\n",
            "Epoch 30/100\n",
            "37500/37500 - 2s - loss: 0.1608 - accuracy: 0.9333 - 2s/epoch - 65us/sample\n",
            "Epoch 31/100\n",
            "37500/37500 - 2s - loss: 0.1572 - accuracy: 0.9350 - 2s/epoch - 64us/sample\n",
            "Epoch 32/100\n",
            "37500/37500 - 2s - loss: 0.1413 - accuracy: 0.9408 - 2s/epoch - 66us/sample\n",
            "Epoch 33/100\n",
            "37500/37500 - 2s - loss: 0.1435 - accuracy: 0.9418 - 2s/epoch - 65us/sample\n",
            "Epoch 34/100\n",
            "37500/37500 - 2s - loss: 0.1365 - accuracy: 0.9439 - 2s/epoch - 66us/sample\n",
            "Epoch 35/100\n",
            "37500/37500 - 2s - loss: 0.1300 - accuracy: 0.9470 - 2s/epoch - 63us/sample\n",
            "Epoch 36/100\n",
            "37500/37500 - 2s - loss: 0.1299 - accuracy: 0.9474 - 2s/epoch - 63us/sample\n",
            "Epoch 37/100\n",
            "37500/37500 - 2s - loss: 0.1197 - accuracy: 0.9511 - 2s/epoch - 61us/sample\n",
            "Epoch 38/100\n",
            "37500/37500 - 2s - loss: 0.1201 - accuracy: 0.9534 - 2s/epoch - 64us/sample\n",
            "Epoch 39/100\n",
            "37500/37500 - 2s - loss: 0.1071 - accuracy: 0.9584 - 2s/epoch - 63us/sample\n",
            "Epoch 40/100\n",
            "37500/37500 - 2s - loss: 0.1139 - accuracy: 0.9556 - 2s/epoch - 62us/sample\n",
            "Epoch 41/100\n",
            "37500/37500 - 2s - loss: 0.1050 - accuracy: 0.9585 - 2s/epoch - 64us/sample\n",
            "Epoch 42/100\n",
            "37500/37500 - 2s - loss: 0.1051 - accuracy: 0.9594 - 2s/epoch - 64us/sample\n",
            "Epoch 43/100\n",
            "37500/37500 - 2s - loss: 0.1085 - accuracy: 0.9579 - 2s/epoch - 63us/sample\n",
            "Epoch 44/100\n",
            "37500/37500 - 2s - loss: 0.0952 - accuracy: 0.9628 - 2s/epoch - 63us/sample\n",
            "Epoch 45/100\n",
            "37500/37500 - 2s - loss: 0.0992 - accuracy: 0.9614 - 2s/epoch - 64us/sample\n",
            "Epoch 46/100\n",
            "37500/37500 - 2s - loss: 0.0850 - accuracy: 0.9679 - 2s/epoch - 63us/sample\n",
            "Epoch 47/100\n",
            "37500/37500 - 2s - loss: 0.0973 - accuracy: 0.9636 - 2s/epoch - 63us/sample\n",
            "Epoch 48/100\n",
            "37500/37500 - 2s - loss: 0.0869 - accuracy: 0.9666 - 2s/epoch - 63us/sample\n",
            "Epoch 49/100\n",
            "37500/37500 - 2s - loss: 0.0816 - accuracy: 0.9706 - 2s/epoch - 64us/sample\n",
            "Epoch 50/100\n",
            "37500/37500 - 2s - loss: 0.0855 - accuracy: 0.9676 - 2s/epoch - 62us/sample\n",
            "Epoch 51/100\n",
            "37500/37500 - 2s - loss: 0.0846 - accuracy: 0.9693 - 2s/epoch - 62us/sample\n",
            "Epoch 52/100\n",
            "37500/37500 - 2s - loss: 0.0785 - accuracy: 0.9714 - 2s/epoch - 63us/sample\n",
            "Epoch 53/100\n",
            "37500/37500 - 2s - loss: 0.0841 - accuracy: 0.9700 - 2s/epoch - 65us/sample\n",
            "Epoch 54/100\n",
            "37500/37500 - 2s - loss: 0.0799 - accuracy: 0.9710 - 2s/epoch - 62us/sample\n",
            "Epoch 55/100\n",
            "37500/37500 - 2s - loss: 0.0755 - accuracy: 0.9727 - 2s/epoch - 66us/sample\n",
            "Epoch 56/100\n",
            "37500/37500 - 2s - loss: 0.0627 - accuracy: 0.9769 - 2s/epoch - 63us/sample\n",
            "Epoch 57/100\n",
            "37500/37500 - 2s - loss: 0.0785 - accuracy: 0.9710 - 2s/epoch - 63us/sample\n",
            "Epoch 58/100\n",
            "37500/37500 - 2s - loss: 0.0773 - accuracy: 0.9725 - 2s/epoch - 65us/sample\n",
            "Epoch 59/100\n",
            "37500/37500 - 2s - loss: 0.0700 - accuracy: 0.9752 - 2s/epoch - 64us/sample\n",
            "Epoch 60/100\n",
            "37500/37500 - 3s - loss: 0.0664 - accuracy: 0.9751 - 3s/epoch - 79us/sample\n",
            "Epoch 61/100\n",
            "37500/37500 - 2s - loss: 0.0768 - accuracy: 0.9724 - 2s/epoch - 64us/sample\n",
            "Epoch 62/100\n",
            "37500/37500 - 2s - loss: 0.0716 - accuracy: 0.9742 - 2s/epoch - 64us/sample\n",
            "Epoch 63/100\n",
            "37500/37500 - 2s - loss: 0.0612 - accuracy: 0.9783 - 2s/epoch - 65us/sample\n",
            "Epoch 64/100\n",
            "37500/37500 - 2s - loss: 0.0699 - accuracy: 0.9756 - 2s/epoch - 66us/sample\n",
            "Epoch 65/100\n",
            "37500/37500 - 3s - loss: 0.0614 - accuracy: 0.9792 - 3s/epoch - 82us/sample\n",
            "Epoch 66/100\n",
            "37500/37500 - 2s - loss: 0.0671 - accuracy: 0.9772 - 2s/epoch - 64us/sample\n",
            "Epoch 67/100\n",
            "37500/37500 - 2s - loss: 0.0568 - accuracy: 0.9795 - 2s/epoch - 63us/sample\n",
            "Epoch 68/100\n",
            "37500/37500 - 2s - loss: 0.0687 - accuracy: 0.9771 - 2s/epoch - 65us/sample\n",
            "Epoch 69/100\n",
            "37500/37500 - 2s - loss: 0.0636 - accuracy: 0.9777 - 2s/epoch - 63us/sample\n",
            "Epoch 70/100\n",
            "37500/37500 - 2s - loss: 0.0512 - accuracy: 0.9822 - 2s/epoch - 64us/sample\n",
            "Epoch 71/100\n",
            "37500/37500 - 2s - loss: 0.0594 - accuracy: 0.9801 - 2s/epoch - 63us/sample\n",
            "Epoch 72/100\n",
            "37500/37500 - 2s - loss: 0.0600 - accuracy: 0.9790 - 2s/epoch - 64us/sample\n",
            "Epoch 73/100\n",
            "37500/37500 - 2s - loss: 0.0583 - accuracy: 0.9794 - 2s/epoch - 64us/sample\n",
            "Epoch 74/100\n",
            "37500/37500 - 2s - loss: 0.0547 - accuracy: 0.9817 - 2s/epoch - 65us/sample\n",
            "Epoch 75/100\n",
            "37500/37500 - 2s - loss: 0.0555 - accuracy: 0.9805 - 2s/epoch - 64us/sample\n",
            "Epoch 76/100\n",
            "37500/37500 - 2s - loss: 0.0597 - accuracy: 0.9797 - 2s/epoch - 65us/sample\n",
            "Epoch 77/100\n",
            "37500/37500 - 2s - loss: 0.0520 - accuracy: 0.9819 - 2s/epoch - 63us/sample\n",
            "Epoch 78/100\n",
            "37500/37500 - 2s - loss: 0.0507 - accuracy: 0.9818 - 2s/epoch - 63us/sample\n",
            "Epoch 79/100\n",
            "37500/37500 - 2s - loss: 0.0458 - accuracy: 0.9837 - 2s/epoch - 64us/sample\n",
            "Epoch 80/100\n",
            "37500/37500 - 2s - loss: 0.0582 - accuracy: 0.9804 - 2s/epoch - 63us/sample\n",
            "Epoch 81/100\n",
            "37500/37500 - 2s - loss: 0.0428 - accuracy: 0.9853 - 2s/epoch - 63us/sample\n",
            "Epoch 82/100\n",
            "37500/37500 - 2s - loss: 0.0553 - accuracy: 0.9819 - 2s/epoch - 65us/sample\n",
            "Epoch 83/100\n",
            "37500/37500 - 2s - loss: 0.0447 - accuracy: 0.9847 - 2s/epoch - 65us/sample\n",
            "Epoch 84/100\n",
            "37500/37500 - 2s - loss: 0.0559 - accuracy: 0.9810 - 2s/epoch - 63us/sample\n",
            "Epoch 85/100\n",
            "37500/37500 - 2s - loss: 0.0498 - accuracy: 0.9839 - 2s/epoch - 62us/sample\n",
            "Epoch 86/100\n",
            "37500/37500 - 2s - loss: 0.0449 - accuracy: 0.9852 - 2s/epoch - 64us/sample\n",
            "Epoch 87/100\n",
            "37500/37500 - 2s - loss: 0.0442 - accuracy: 0.9852 - 2s/epoch - 64us/sample\n",
            "Epoch 88/100\n",
            "37500/37500 - 2s - loss: 0.0509 - accuracy: 0.9823 - 2s/epoch - 63us/sample\n",
            "Epoch 89/100\n",
            "37500/37500 - 2s - loss: 0.0423 - accuracy: 0.9862 - 2s/epoch - 62us/sample\n",
            "Epoch 90/100\n",
            "37500/37500 - 2s - loss: 0.0521 - accuracy: 0.9831 - 2s/epoch - 63us/sample\n",
            "Epoch 91/100\n",
            "37500/37500 - 2s - loss: 0.0412 - accuracy: 0.9867 - 2s/epoch - 63us/sample\n",
            "Epoch 92/100\n",
            "37500/37500 - 2s - loss: 0.0435 - accuracy: 0.9855 - 2s/epoch - 63us/sample\n",
            "Epoch 93/100\n",
            "37500/37500 - 2s - loss: 0.0392 - accuracy: 0.9867 - 2s/epoch - 63us/sample\n",
            "Epoch 94/100\n",
            "37500/37500 - 2s - loss: 0.0512 - accuracy: 0.9825 - 2s/epoch - 63us/sample\n",
            "Epoch 95/100\n",
            "37500/37500 - 2s - loss: 0.0444 - accuracy: 0.9857 - 2s/epoch - 62us/sample\n",
            "Epoch 96/100\n",
            "37500/37500 - 2s - loss: 0.0363 - accuracy: 0.9885 - 2s/epoch - 63us/sample\n",
            "Epoch 97/100\n",
            "37500/37500 - 2s - loss: 0.0471 - accuracy: 0.9842 - 2s/epoch - 65us/sample\n",
            "Epoch 98/100\n",
            "37500/37500 - 2s - loss: 0.0422 - accuracy: 0.9867 - 2s/epoch - 62us/sample\n",
            "Epoch 99/100\n",
            "37500/37500 - 2s - loss: 0.0426 - accuracy: 0.9862 - 2s/epoch - 64us/sample\n",
            "Epoch 100/100\n",
            "37500/37500 - 2s - loss: 0.0377 - accuracy: 0.9876 - 2s/epoch - 63us/sample\n"
          ]
        },
        {
          "output_type": "stream",
          "name": "stderr",
          "text": [
            "/usr/local/lib/python3.7/dist-packages/keras/engine/training_v1.py:2045: UserWarning: `Model.state_updates` will be removed in a future version. This property should not be used in TensorFlow 2.0, as `updates` are applied automatically.\n",
            "  updates = self.state_updates\n"
          ]
        },
        {
          "output_type": "stream",
          "name": "stdout",
          "text": [
            "0.73864\n"
          ]
        }
      ]
    },
    {
      "cell_type": "markdown",
      "source": [
        "##### 3. Would text prediction (like the auto-completion of Question 2 of Week 6) be easier in some way if these other vectorizations are taken into consideration? How and why?"
      ],
      "metadata": {
        "id": "aioL2f0tJyiY"
      }
    },
    {
      "cell_type": "code",
      "source": [
        "import tensorflow as tf\n",
        "from tensorflow.keras.preprocessing.sequence import pad_sequences\n",
        "from tensorflow.keras.layers import Embedding, LSTM, Dense, Bidirectional\n",
        "from tensorflow.keras.preprocessing.text import Tokenizer\n",
        "from tensorflow.keras.utils import to_categorical\n",
        "from tensorflow.keras.models import Sequential\n",
        "from tensorflow.keras.optimizers import Adam"
      ],
      "metadata": {
        "id": "xHq-HzgLd4oP"
      },
      "execution_count": null,
      "outputs": []
    },
    {
      "cell_type": "code",
      "source": [
        "train_len = 3\n",
        "text_sequences = []\n",
        "for i in range(train_len,len(tokens)):\n",
        "    seq = tokens[i-train_len:i]\n",
        "    text_sequences.append(seq)\n",
        "sequences = {}\n",
        "count = 1\n",
        "for i in range(len(tokens)):\n",
        "    if tokens[i] not in sequences:\n",
        "        sequences[tokens[i]] = count\n",
        "        count += 1\n",
        "tokenizer = Tokenizer()\n",
        "tokenizer.fit_on_texts(text_sequences)\n",
        "sequences = tokenizer.texts_to_sequences(text_sequences)"
      ],
      "metadata": {
        "id": "SDTsI8pCe1-3"
      },
      "execution_count": null,
      "outputs": []
    },
    {
      "cell_type": "code",
      "source": [
        "max_sequence_len = max([len(x) for x in sequences])\n",
        "input_sequences = np.array(pad_sequences(sequences, maxlen=max_sequence_len, padding='pre'))\n",
        "input_sequences"
      ],
      "metadata": {
        "colab": {
          "base_uri": "https://localhost:8080/"
        },
        "id": "AjU7ZlnYDL9h",
        "outputId": "022bc46c-36a7-4371-be7a-17852803f341"
      },
      "execution_count": null,
      "outputs": [
        {
          "output_type": "execute_result",
          "data": {
            "text/plain": [
              "array([[ 304,  152,    1],\n",
              "       [ 152,    1,  305],\n",
              "       [   1,  305,   15],\n",
              "       ...,\n",
              "       [   1, 2584,  306],\n",
              "       [2584,  306,  722],\n",
              "       [ 306,  722,    1]], dtype=int32)"
            ]
          },
          "metadata": {},
          "execution_count": 31
        }
      ]
    },
    {
      "cell_type": "code",
      "source": [
        "#Collecting some information   \n",
        "vocabulary_size = len(tokenizer.word_counts)+1\n",
        "\n",
        "n_sequences = np.empty([len(sequences),train_len], dtype='int32')\n",
        "for i in range(len(sequences)):\n",
        "    n_sequences[i] = sequences[i]"
      ],
      "metadata": {
        "id": "oNlePONbiEml"
      },
      "execution_count": null,
      "outputs": []
    },
    {
      "cell_type": "code",
      "source": [
        "train_inputs = n_sequences[:,:-1]\n",
        "train_targets = n_sequences[:,-1]\n",
        "train_targets = to_categorical(train_targets, num_classes=vocabulary_size)\n",
        "seq_len = train_inputs.shape[1]\n",
        "train_inputs.shape"
      ],
      "metadata": {
        "colab": {
          "base_uri": "https://localhost:8080/"
        },
        "id": "Hnoy95uUiQTt",
        "outputId": "14a221ce-04b7-4a41-b5b3-992ffbd13f83"
      },
      "execution_count": null,
      "outputs": [
        {
          "output_type": "execute_result",
          "data": {
            "text/plain": [
              "(5532, 2)"
            ]
          },
          "metadata": {},
          "execution_count": 36
        }
      ]
    },
    {
      "cell_type": "code",
      "source": [
        "train_inputs"
      ],
      "metadata": {
        "colab": {
          "base_uri": "https://localhost:8080/"
        },
        "id": "M20VbICsiSAV",
        "outputId": "a9d16d4f-a78e-47a4-9ed2-035741b2aa40"
      },
      "execution_count": null,
      "outputs": [
        {
          "output_type": "execute_result",
          "data": {
            "text/plain": [
              "array([[ 176,  362],\n",
              "       [ 362,    1],\n",
              "       [   1,   12],\n",
              "       ...,\n",
              "       [   1,  782],\n",
              "       [ 782,  185],\n",
              "       [ 185, 2301]], dtype=int32)"
            ]
          },
          "metadata": {},
          "execution_count": 31
        }
      ]
    },
    {
      "cell_type": "code",
      "source": [
        "train_targets"
      ],
      "metadata": {
        "colab": {
          "base_uri": "https://localhost:8080/"
        },
        "id": "rCDmRKxmicTH",
        "outputId": "6eaf71e8-f3a4-49e0-8262-71228d5db363"
      },
      "execution_count": null,
      "outputs": [
        {
          "output_type": "execute_result",
          "data": {
            "text/plain": [
              "array([[0., 1., 0., ..., 0., 0., 0.],\n",
              "       [0., 0., 0., ..., 0., 0., 0.],\n",
              "       [0., 0., 0., ..., 0., 0., 0.],\n",
              "       ...,\n",
              "       [0., 0., 0., ..., 0., 0., 0.],\n",
              "       [0., 0., 0., ..., 0., 0., 1.],\n",
              "       [0., 1., 0., ..., 0., 0., 0.]], dtype=float32)"
            ]
          },
          "metadata": {},
          "execution_count": 32
        }
      ]
    },
    {
      "cell_type": "code",
      "source": [
        "from tensorflow.keras.callbacks import ModelCheckpoint\n",
        "from tensorflow.keras.callbacks import ReduceLROnPlateau\n",
        "\n",
        "\n",
        "checkpoint = ModelCheckpoint(\"nextword1.h5\", monitor='loss', verbose=1,\n",
        "    save_best_only=True, mode='auto')\n",
        "\n",
        "reduce = ReduceLROnPlateau(monitor='loss', factor=0.2, patience=3, min_lr=0.0001, verbose = 1)"
      ],
      "metadata": {
        "id": "7gwrU70Jif4_"
      },
      "execution_count": null,
      "outputs": []
    },
    {
      "cell_type": "code",
      "source": [
        "from keras.models import Sequential, load_model\n",
        "from keras.layers import Dense\n",
        "from keras.layers import LSTM\n",
        "from keras.layers import Embedding\n",
        "#model = load_model(\"mymodel.h5\")\n",
        "\n",
        "model = Sequential()\n",
        "model.add(Embedding(vocabulary_size, seq_len, input_length=seq_len))\n",
        "model.add(Bidirectional(LSTM(1000,return_sequences=True)))\n",
        "model.add(Bidirectional(LSTM(1000)))\n",
        "model.add(Dense(1000,activation='relu'))\n",
        "model.add(Dense(vocabulary_size, activation='softmax'))\n",
        "print(model.summary())"
      ],
      "metadata": {
        "colab": {
          "base_uri": "https://localhost:8080/"
        },
        "id": "A8Vxd96Vikcg",
        "outputId": "a69c3601-487e-440e-edab-e3c6db838557"
      },
      "execution_count": null,
      "outputs": [
        {
          "output_type": "stream",
          "name": "stdout",
          "text": [
            "Model: \"sequential\"\n",
            "_________________________________________________________________\n",
            " Layer (type)                Output Shape              Param #   \n",
            "=================================================================\n",
            " embedding (Embedding)       (None, 2, 2)              5170      \n",
            "                                                                 \n",
            " bidirectional (Bidirectiona  (None, 2, 2000)          8024000   \n",
            " l)                                                              \n",
            "                                                                 \n",
            " bidirectional_1 (Bidirectio  (None, 2000)             24008000  \n",
            " nal)                                                            \n",
            "                                                                 \n",
            " dense (Dense)               (None, 1000)              2001000   \n",
            "                                                                 \n",
            " dense_1 (Dense)             (None, 2585)              2587585   \n",
            "                                                                 \n",
            "=================================================================\n",
            "Total params: 36,625,755\n",
            "Trainable params: 36,625,755\n",
            "Non-trainable params: 0\n",
            "_________________________________________________________________\n",
            "None\n"
          ]
        }
      ]
    },
    {
      "cell_type": "code",
      "source": [
        "from tensorflow import keras\n",
        "from keras.utils.vis_utils import plot_model\n",
        "\n",
        "keras.utils.plot_model(model, to_file='model.png', show_layer_names=True)"
      ],
      "metadata": {
        "colab": {
          "base_uri": "https://localhost:8080/",
          "height": 564
        },
        "id": "RYrLWDsKipen",
        "outputId": "65979e2a-4473-4055-c7c8-c950be012b7a"
      },
      "execution_count": null,
      "outputs": [
        {
          "output_type": "execute_result",
          "data": {
            "image/png": "[encoded data removed]",
            "text/plain": [
              "<IPython.core.display.Image object>"
            ]
          },
          "metadata": {},
          "execution_count": 38
        }
      ]
    },
    {
      "cell_type": "code",
      "source": [
        "# compile network\n",
        "es = tf.keras.callbacks.EarlyStopping(monitor='loss', patience=3)\n",
        "model.compile(loss='categorical_crossentropy', optimizer=Adam(learning_rate=0.001), metrics=['accuracy'])\n",
        "history = model.fit(train_inputs,train_targets,epochs=150, batch_size=64, callbacks=[checkpoint, reduce, es],verbose=1)\n",
        "model.save(\"mymodel.h5\")"
      ],
      "metadata": {
        "colab": {
          "base_uri": "https://localhost:8080/"
        },
        "id": "irZHtJ1gitLf",
        "outputId": "199273e9-8d04-4ee7-ace9-a4e7be1aacb9"
      },
      "execution_count": null,
      "outputs": [
        {
          "output_type": "stream",
          "name": "stdout",
          "text": [
            "Epoch 1/150\n",
            "87/87 [==============================] - ETA: 0s - loss: 1.5200 - accuracy: 0.5343\n",
            "Epoch 1: loss did not improve from 1.23326\n",
            "87/87 [==============================] - 8s 27ms/step - loss: 1.5200 - accuracy: 0.5343 - lr: 0.0010\n",
            "Epoch 2/150\n",
            "86/87 [============================>.] - ETA: 0s - loss: 1.1897 - accuracy: 0.6072\n",
            "Epoch 2: loss improved from 1.23326 to 1.19058, saving model to nextword1.h5\n",
            "87/87 [==============================] - 4s 43ms/step - loss: 1.1906 - accuracy: 0.6068 - lr: 0.0010\n",
            "Epoch 3/150\n",
            "86/87 [============================>.] - ETA: 0s - loss: 1.1616 - accuracy: 0.6088\n",
            "Epoch 3: loss improved from 1.19058 to 1.16377, saving model to nextword1.h5\n",
            "87/87 [==============================] - 4s 43ms/step - loss: 1.1638 - accuracy: 0.6079 - lr: 0.0010\n",
            "Epoch 4/150\n",
            "85/87 [============================>.] - ETA: 0s - loss: 1.1924 - accuracy: 0.6020\n",
            "Epoch 4: loss did not improve from 1.16377\n",
            "87/87 [==============================] - 2s 27ms/step - loss: 1.1947 - accuracy: 0.6012 - lr: 0.0010\n",
            "Epoch 5/150\n",
            "87/87 [==============================] - ETA: 0s - loss: 1.2151 - accuracy: 0.5996\n",
            "Epoch 5: loss did not improve from 1.16377\n",
            "87/87 [==============================] - 2s 26ms/step - loss: 1.2151 - accuracy: 0.5996 - lr: 0.0010\n",
            "Epoch 6/150\n",
            "87/87 [==============================] - ETA: 0s - loss: 1.2457 - accuracy: 0.5862\n",
            "Epoch 6: loss did not improve from 1.16377\n",
            "\n",
            "Epoch 6: ReduceLROnPlateau reducing learning rate to 0.00020000000949949026.\n",
            "87/87 [==============================] - 2s 26ms/step - loss: 1.2457 - accuracy: 0.5862 - lr: 0.0010\n"
          ]
        }
      ]
    },
    {
      "cell_type": "code",
      "source": [
        "def plot_graphs(history, string):\n",
        "    plt.plot(history.history[string])\n",
        "    plt.xlabel(\"Epochs\")\n",
        "    plt.ylabel(string)\n",
        "    plt.show()"
      ],
      "metadata": {
        "id": "EGDJugHcJ1rS"
      },
      "execution_count": null,
      "outputs": []
    },
    {
      "cell_type": "code",
      "source": [
        "plot_graphs(history, 'accuracy')"
      ],
      "metadata": {
        "colab": {
          "base_uri": "https://localhost:8080/",
          "height": 279
        },
        "id": "l1Dg9LWCKDli",
        "outputId": "c6ee5e43-f32f-421a-c7a0-70e72cf5c3cc"
      },
      "execution_count": null,
      "outputs": [
        {
          "output_type": "display_data",
          "data": {
            "text/plain": [
              "<Figure size 432x288 with 1 Axes>"
            ],
            "image/png": "[encoded data removed]"
          },
          "metadata": {
            "needs_background": "light"
          }
        }
      ]
    },
    {
      "cell_type": "code",
      "source": [
        "plot_graphs(history, 'loss')"
      ],
      "metadata": {
        "colab": {
          "base_uri": "https://localhost:8080/",
          "height": 279
        },
        "id": "TPQf8GGRKLns",
        "outputId": "8a006bc3-6797-427a-9c98-1a15dddee33b"
      },
      "execution_count": null,
      "outputs": [
        {
          "output_type": "display_data",
          "data": {
            "text/plain": [
              "<Figure size 432x288 with 1 Axes>"
            ],
            "image/png": "[encoded data removed]"
          },
          "metadata": {
            "needs_background": "light"
          }
        }
      ]
    },
    {
      "cell_type": "code",
      "source": [
        "from keras_preprocessing.sequence import pad_sequences\n",
        "input_text = input().strip().lower()\n",
        "encoded_text = tokenizer.texts_to_sequences([input_text])[0]\n",
        "pad_encoded = pad_sequences([encoded_text], maxlen=seq_len, padding='pre', truncating='pre')\n",
        "print(encoded_text, pad_encoded)\n",
        "for i in (model.predict(pad_encoded)[0]).argsort()[-3:][::-1]:\n",
        "  pred_word = tokenizer.index_word[i]\n",
        "  print(\"Next word suggestion:\",pred_word)"
      ],
      "metadata": {
        "colab": {
          "base_uri": "https://localhost:8080/"
        },
        "id": "Nv2WVI0vj62E",
        "outputId": "50c66944-2bd3-4634-95e1-f9d1f270464a"
      },
      "execution_count": null,
      "outputs": [
        {
          "output_type": "stream",
          "name": "stdout",
          "text": [
            "she is in \n",
            "[74, 33, 28] [[33 28]]\n",
            "1/1 [==============================] - 0s 21ms/step\n",
            "Next word suggestion: lose\n",
            "Next word suggestion: belly\n",
            "Next word suggestion: !\n"
          ]
        }
      ]
    },
    {
      "cell_type": "markdown",
      "source": [
        "##### 4. Compute and compare (k-means or other) clusterings (for a corpus of your choice) based on our three vectorizations — tf-idf, PPMI, and skipgram embeddings — in terms of some consistency measure such as the Rand or the Jaccard index. Discuss the differences you observe. Does the spacial grouping, in any of the three cases, appear to capture some sort of perceivable semantic similarity?\n"
      ],
      "metadata": {
        "id": "8sHIMTXULS-c"
      }
    },
    {
      "cell_type": "code",
      "source": [
        "import spacy\n",
        "nlp = spacy.load('en_core_web_sm') \n",
        "doc = nlp(new)\n",
        "sentences = [[sent.text.strip()] for sent in doc.sents]\n",
        "  "
      ],
      "metadata": {
        "id": "0RtWNJ3cqciu"
      },
      "execution_count": null,
      "outputs": []
    },
    {
      "cell_type": "code",
      "source": [
        "from gensim.models import Word2Vec\n",
        "model = Word2Vec(sentences, size=100, min_count=1,workers=10)\n"
      ],
      "metadata": {
        "colab": {
          "base_uri": "https://localhost:8080/"
        },
        "id": "UkK6k6VsmSN5",
        "outputId": "8d493373-f173-4311-c930-b180bea9f718"
      },
      "execution_count": null,
      "outputs": [
        {
          "output_type": "stream",
          "name": "stderr",
          "text": [
            "WARNING:gensim.models.base_any2vec:under 10 jobs per worker: consider setting a smaller `batch_words' for smoother alpha decay\n"
          ]
        }
      ]
    },
    {
      "cell_type": "code",
      "source": [
        "from sklearn.decomposition import PCA\n",
        "\n",
        "# fit a 2d PCA model to the vectors\n",
        "vectors = model[model.wv.vocab]\n",
        "words = list(model.wv.vocab)\n",
        "pca = PCA(n_components=5)\n",
        "PCA_result = pca.fit_transform(vectors)\n",
        "\n",
        "# prepare a dataframe\n",
        "words = pd.DataFrame(words)\n",
        "PCA_result = pd.DataFrame(PCA_result)\n",
        "PCA_result['x_values'] =PCA_result.iloc[0:, 0]\n",
        "PCA_result['y_values'] =PCA_result.iloc[0:, 1]\n",
        "PCA_final = pd.merge(words, PCA_result, left_index=True, right_index=True)\n",
        "PCA_final['word'] =PCA_final.iloc[0:, 0]\n",
        "PCA_data_complet =PCA_final[['word','x_values','y_values']]"
      ],
      "metadata": {
        "colab": {
          "base_uri": "https://localhost:8080/"
        },
        "id": "KbYT2xh0rO2i",
        "outputId": "74f8973b-48cf-4eec-cc10-b280078f1878"
      },
      "execution_count": null,
      "outputs": [
        {
          "output_type": "stream",
          "name": "stderr",
          "text": [
            "/usr/local/lib/python3.7/dist-packages/ipykernel_launcher.py:4: DeprecationWarning: Call to deprecated `__getitem__` (Method will be removed in 4.0.0, use self.wv.__getitem__() instead).\n",
            "  after removing the cwd from sys.path.\n"
          ]
        }
      ]
    },
    {
      "cell_type": "code",
      "source": [
        "# KNN analysis was carried out in Orange\n",
        "# 6 clusters were automatically detected by Orange\n",
        "knn = pd.read_csv('/content/knn result .csv').drop(labels=[0,1], axis=0).drop(labels = 'Unnamed: 0', axis = 1)\n",
        "knn = knn.reset_index()"
      ],
      "metadata": {
        "id": "mPW4RYJPx-UX"
      },
      "execution_count": null,
      "outputs": []
    },
    {
      "cell_type": "code",
      "source": [
        "result = knn.drop(labels = 'index', axis = 1)\n",
        "result"
      ],
      "metadata": {
        "colab": {
          "base_uri": "https://localhost:8080/",
          "height": 419
        },
        "id": "vzn9pyZV_zwg",
        "outputId": "334e043f-69d5-4dd2-e61b-0ec99bd791fe"
      },
      "execution_count": null,
      "outputs": [
        {
          "output_type": "execute_result",
          "data": {
            "text/plain": [
              "           x_values       y_values  \\\n",
              "0     -0.0028215402  -0.0056364546   \n",
              "1    -3.5067802e-05    0.001643067   \n",
              "2    -0.00070192944   -0.001271875   \n",
              "3       0.005030413   -0.003850557   \n",
              "4      0.0062433444   0.0064553423   \n",
              "..              ...            ...   \n",
              "483    0.0010464382  -0.0060606855   \n",
              "484    -0.008052381  -0.0010993255   \n",
              "485    0.0063272184   -0.005376006   \n",
              "486    0.0045321253     0.00518677   \n",
              "487    0.0069340155   -0.003140568   \n",
              "\n",
              "                                                  word Cluster  \\\n",
              "0    one morning, gregor samsa woke troubl dreams, ...      C2   \n",
              "1    he lay armour-lik back, lift head littl could ...      C2   \n",
              "2      the bed hard abl cover seem readi slide moment.      C2   \n",
              "3    his mani legs, piti thin compar size rest him,...      C2   \n",
              "4                           \"what happen me?\" thought.      C4   \n",
              "..                                                 ...     ...   \n",
              "483  tram, sunshine, leant comfort seats, discuss c...      C3   \n",
              "484                                          livelier.      C5   \n",
              "485  cheek pale, talking, struck, simultaneously, b...      C3   \n",
              "486                                           quieter.      C1   \n",
              "487   other agre and, confirm dream intentions, destin      C3   \n",
              "\n",
              "              Silhouette  \n",
              "0     0.6421893776163234  \n",
              "1    0.49721753421725623  \n",
              "2     0.6133153643185436  \n",
              "3     0.5678918648753679  \n",
              "4     0.6267928712598945  \n",
              "..                   ...  \n",
              "483   0.5936795253892081  \n",
              "484   0.6295586100078601  \n",
              "485   0.6277425290327308  \n",
              "486   0.6272430911341066  \n",
              "487   0.6030259943488392  \n",
              "\n",
              "[488 rows x 5 columns]"
            ],
            "text/html": [
              "\n",
              "  <div id=\"df-d48fea93-5b8c-4ee4-b207-121f596244cd\">\n",
              "    <div class=\"colab-df-container\">\n",
              "      <div>\n",
              "<style scoped>\n",
              "    .dataframe tbody tr th:only-of-type {\n",
              "        vertical-align: middle;\n",
              "    }\n",
              "\n",
              "    .dataframe tbody tr th {\n",
              "        vertical-align: top;\n",
              "    }\n",
              "\n",
              "    .dataframe thead th {\n",
              "        text-align: right;\n",
              "    }\n",
              "</style>\n",
              "<table border=\"1\" class=\"dataframe\">\n",
              "  <thead>\n",
              "    <tr style=\"text-align: right;\">\n",
              "      <th></th>\n",
              "      <th>x_values</th>\n",
              "      <th>y_values</th>\n",
              "      <th>word</th>\n",
              "      <th>Cluster</th>\n",
              "      <th>Silhouette</th>\n",
              "    </tr>\n",
              "  </thead>\n",
              "  <tbody>\n",
              "    <tr>\n",
              "      <th>0</th>\n",
              "      <td>-0.0028215402</td>\n",
              "      <td>-0.0056364546</td>\n",
              "      <td>one morning, gregor samsa woke troubl dreams, ...</td>\n",
              "      <td>C2</td>\n",
              "      <td>0.6421893776163234</td>\n",
              "    </tr>\n",
              "    <tr>\n",
              "      <th>1</th>\n",
              "      <td>-3.5067802e-05</td>\n",
              "      <td>0.001643067</td>\n",
              "      <td>he lay armour-lik back, lift head littl could ...</td>\n",
              "      <td>C2</td>\n",
              "      <td>0.49721753421725623</td>\n",
              "    </tr>\n",
              "    <tr>\n",
              "      <th>2</th>\n",
              "      <td>-0.00070192944</td>\n",
              "      <td>-0.001271875</td>\n",
              "      <td>the bed hard abl cover seem readi slide moment.</td>\n",
              "      <td>C2</td>\n",
              "      <td>0.6133153643185436</td>\n",
              "    </tr>\n",
              "    <tr>\n",
              "      <th>3</th>\n",
              "      <td>0.005030413</td>\n",
              "      <td>-0.003850557</td>\n",
              "      <td>his mani legs, piti thin compar size rest him,...</td>\n",
              "      <td>C2</td>\n",
              "      <td>0.5678918648753679</td>\n",
              "    </tr>\n",
              "    <tr>\n",
              "      <th>4</th>\n",
              "      <td>0.0062433444</td>\n",
              "      <td>0.0064553423</td>\n",
              "      <td>\"what happen me?\" thought.</td>\n",
              "      <td>C4</td>\n",
              "      <td>0.6267928712598945</td>\n",
              "    </tr>\n",
              "    <tr>\n",
              "      <th>...</th>\n",
              "      <td>...</td>\n",
              "      <td>...</td>\n",
              "      <td>...</td>\n",
              "      <td>...</td>\n",
              "      <td>...</td>\n",
              "    </tr>\n",
              "    <tr>\n",
              "      <th>483</th>\n",
              "      <td>0.0010464382</td>\n",
              "      <td>-0.0060606855</td>\n",
              "      <td>tram, sunshine, leant comfort seats, discuss c...</td>\n",
              "      <td>C3</td>\n",
              "      <td>0.5936795253892081</td>\n",
              "    </tr>\n",
              "    <tr>\n",
              "      <th>484</th>\n",
              "      <td>-0.008052381</td>\n",
              "      <td>-0.0010993255</td>\n",
              "      <td>livelier.</td>\n",
              "      <td>C5</td>\n",
              "      <td>0.6295586100078601</td>\n",
              "    </tr>\n",
              "    <tr>\n",
              "      <th>485</th>\n",
              "      <td>0.0063272184</td>\n",
              "      <td>-0.005376006</td>\n",
              "      <td>cheek pale, talking, struck, simultaneously, b...</td>\n",
              "      <td>C3</td>\n",
              "      <td>0.6277425290327308</td>\n",
              "    </tr>\n",
              "    <tr>\n",
              "      <th>486</th>\n",
              "      <td>0.0045321253</td>\n",
              "      <td>0.00518677</td>\n",
              "      <td>quieter.</td>\n",
              "      <td>C1</td>\n",
              "      <td>0.6272430911341066</td>\n",
              "    </tr>\n",
              "    <tr>\n",
              "      <th>487</th>\n",
              "      <td>0.0069340155</td>\n",
              "      <td>-0.003140568</td>\n",
              "      <td>other agre and, confirm dream intentions, destin</td>\n",
              "      <td>C3</td>\n",
              "      <td>0.6030259943488392</td>\n",
              "    </tr>\n",
              "  </tbody>\n",
              "</table>\n",
              "<p>488 rows × 5 columns</p>\n",
              "</div>\n",
              "      <button class=\"colab-df-convert\" onclick=\"convertToInteractive('df-d48fea93-5b8c-4ee4-b207-121f596244cd')\"\n",
              "              title=\"Convert this dataframe to an interactive table.\"\n",
              "              style=\"display:none;\">\n",
              "        \n",
              "  <svg xmlns=\"http://www.w3.org/2000/svg\" height=\"24px\"viewBox=\"0 0 24 24\"\n",
              "       width=\"24px\">\n",
              "    <path d=\"M0 0h24v24H0V0z\" fill=\"none\"/>\n",
              "    <path d=\"M18.56 5.44l.94 2.06.94-2.06 2.06-.94-2.06-.94-.94-2.06-.94 2.06-2.06.94zm-11 1L8.5 8.5l.94-2.06 2.06-.94-2.06-.94L8.5 2.5l-.94 2.06-2.06.94zm10 10l.94 2.06.94-2.06 2.06-.94-2.06-.94-.94-2.06-.94 2.06-2.06.94z\"/><path d=\"M17.41 7.96l-1.37-1.37c-.4-.4-.92-.59-1.43-.59-.52 0-1.04.2-1.43.59L10.3 9.45l-7.72 7.72c-.78.78-.78 2.05 0 2.83L4 21.41c.39.39.9.59 1.41.59.51 0 1.02-.2 1.41-.59l7.78-7.78 2.81-2.81c.8-.78.8-2.07 0-2.86zM5.41 20L4 18.59l7.72-7.72 1.47 1.35L5.41 20z\"/>\n",
              "  </svg>\n",
              "      </button>\n",
              "      \n",
              "  <style>\n",
              "    .colab-df-container {\n",
              "      display:flex;\n",
              "      flex-wrap:wrap;\n",
              "      gap: 12px;\n",
              "    }\n",
              "\n",
              "    .colab-df-convert {\n",
              "      background-color: #E8F0FE;\n",
              "      border: none;\n",
              "      border-radius: 50%;\n",
              "      cursor: pointer;\n",
              "      display: none;\n",
              "      fill: #1967D2;\n",
              "      height: 32px;\n",
              "      padding: 0 0 0 0;\n",
              "      width: 32px;\n",
              "    }\n",
              "\n",
              "    .colab-df-convert:hover {\n",
              "      background-color: #E2EBFA;\n",
              "      box-shadow: 0px 1px 2px rgba(60, 64, 67, 0.3), 0px 1px 3px 1px rgba(60, 64, 67, 0.15);\n",
              "      fill: #174EA6;\n",
              "    }\n",
              "\n",
              "    [theme=dark] .colab-df-convert {\n",
              "      background-color: #3B4455;\n",
              "      fill: #D2E3FC;\n",
              "    }\n",
              "\n",
              "    [theme=dark] .colab-df-convert:hover {\n",
              "      background-color: #434B5C;\n",
              "      box-shadow: 0px 1px 3px 1px rgba(0, 0, 0, 0.15);\n",
              "      filter: drop-shadow(0px 1px 2px rgba(0, 0, 0, 0.3));\n",
              "      fill: #FFFFFF;\n",
              "    }\n",
              "  </style>\n",
              "\n",
              "      <script>\n",
              "        const buttonEl =\n",
              "          document.querySelector('#df-d48fea93-5b8c-4ee4-b207-121f596244cd button.colab-df-convert');\n",
              "        buttonEl.style.display =\n",
              "          google.colab.kernel.accessAllowed ? 'block' : 'none';\n",
              "\n",
              "        async function convertToInteractive(key) {\n",
              "          const element = document.querySelector('#df-d48fea93-5b8c-4ee4-b207-121f596244cd');\n",
              "          const dataTable =\n",
              "            await google.colab.kernel.invokeFunction('convertToInteractive',\n",
              "                                                     [key], {});\n",
              "          if (!dataTable) return;\n",
              "\n",
              "          const docLinkHtml = 'Like what you see? Visit the ' +\n",
              "            '<a target=\"_blank\" href=https://colab.research.google.com/notebooks/data_table.ipynb>data table notebook</a>'\n",
              "            + ' to learn more about interactive tables.';\n",
              "          element.innerHTML = '';\n",
              "          dataTable['output_type'] = 'display_data';\n",
              "          await google.colab.output.renderOutput(dataTable, element);\n",
              "          const docLink = document.createElement('div');\n",
              "          docLink.innerHTML = docLinkHtml;\n",
              "          element.appendChild(docLink);\n",
              "        }\n",
              "      </script>\n",
              "    </div>\n",
              "  </div>\n",
              "  "
            ]
          },
          "metadata": {},
          "execution_count": 49
        }
      ]
    },
    {
      "cell_type": "markdown",
      "source": [
        "![knn.png](data:image/png;base64,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)"
      ],
      "metadata": {
        "id": "1Kxy9dNaGWiT"
      }
    },
    {
      "cell_type": "code",
      "source": [],
      "metadata": {
        "id": "_Z9G-piWGa0c"
      },
      "execution_count": null,
      "outputs": []
    }
  ]
}